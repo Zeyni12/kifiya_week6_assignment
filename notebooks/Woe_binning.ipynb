{
 "cells": [
  {
   "cell_type": "code",
   "execution_count": 16,
   "metadata": {},
   "outputs": [],
   "source": [
    "import numpy as np\n",
    "import pandas as pd\n",
    "import sidetable\n",
    "import matplotlib.pyplot as plt\n",
    "%matplotlib inline\n",
    "import seaborn as sns\n",
    "import os\n",
    "import sys"
   ]
  },
  {
   "cell_type": "code",
   "execution_count": 17,
   "metadata": {},
   "outputs": [
    {
     "data": {
      "text/html": [
       "<div>\n",
       "<style scoped>\n",
       "    .dataframe tbody tr th:only-of-type {\n",
       "        vertical-align: middle;\n",
       "    }\n",
       "\n",
       "    .dataframe tbody tr th {\n",
       "        vertical-align: top;\n",
       "    }\n",
       "\n",
       "    .dataframe thead th {\n",
       "        text-align: right;\n",
       "    }\n",
       "</style>\n",
       "<table border=\"1\" class=\"dataframe\">\n",
       "  <thead>\n",
       "    <tr style=\"text-align: right;\">\n",
       "      <th></th>\n",
       "      <th>TransactionId</th>\n",
       "      <th>BatchId</th>\n",
       "      <th>AccountId</th>\n",
       "      <th>SubscriptionId</th>\n",
       "      <th>CustomerId</th>\n",
       "      <th>CurrencyCode</th>\n",
       "      <th>CountryCode</th>\n",
       "      <th>ProviderId</th>\n",
       "      <th>ProductId</th>\n",
       "      <th>ProductCategory</th>\n",
       "      <th>ChannelId</th>\n",
       "      <th>Amount</th>\n",
       "      <th>Value</th>\n",
       "      <th>TransactionStartTime</th>\n",
       "      <th>PricingStrategy</th>\n",
       "      <th>FraudResult</th>\n",
       "    </tr>\n",
       "  </thead>\n",
       "  <tbody>\n",
       "    <tr>\n",
       "      <th>0</th>\n",
       "      <td>TransactionId_76871</td>\n",
       "      <td>BatchId_36123</td>\n",
       "      <td>AccountId_3957</td>\n",
       "      <td>SubscriptionId_887</td>\n",
       "      <td>CustomerId_4406</td>\n",
       "      <td>UGX</td>\n",
       "      <td>256</td>\n",
       "      <td>ProviderId_6</td>\n",
       "      <td>ProductId_10</td>\n",
       "      <td>airtime</td>\n",
       "      <td>ChannelId_3</td>\n",
       "      <td>1000.0</td>\n",
       "      <td>1000</td>\n",
       "      <td>2018-11-15T02:18:49Z</td>\n",
       "      <td>2</td>\n",
       "      <td>0</td>\n",
       "    </tr>\n",
       "    <tr>\n",
       "      <th>1</th>\n",
       "      <td>TransactionId_73770</td>\n",
       "      <td>BatchId_15642</td>\n",
       "      <td>AccountId_4841</td>\n",
       "      <td>SubscriptionId_3829</td>\n",
       "      <td>CustomerId_4406</td>\n",
       "      <td>UGX</td>\n",
       "      <td>256</td>\n",
       "      <td>ProviderId_4</td>\n",
       "      <td>ProductId_6</td>\n",
       "      <td>financial_services</td>\n",
       "      <td>ChannelId_2</td>\n",
       "      <td>-20.0</td>\n",
       "      <td>20</td>\n",
       "      <td>2018-11-15T02:19:08Z</td>\n",
       "      <td>2</td>\n",
       "      <td>0</td>\n",
       "    </tr>\n",
       "    <tr>\n",
       "      <th>2</th>\n",
       "      <td>TransactionId_26203</td>\n",
       "      <td>BatchId_53941</td>\n",
       "      <td>AccountId_4229</td>\n",
       "      <td>SubscriptionId_222</td>\n",
       "      <td>CustomerId_4683</td>\n",
       "      <td>UGX</td>\n",
       "      <td>256</td>\n",
       "      <td>ProviderId_6</td>\n",
       "      <td>ProductId_1</td>\n",
       "      <td>airtime</td>\n",
       "      <td>ChannelId_3</td>\n",
       "      <td>500.0</td>\n",
       "      <td>500</td>\n",
       "      <td>2018-11-15T02:44:21Z</td>\n",
       "      <td>2</td>\n",
       "      <td>0</td>\n",
       "    </tr>\n",
       "    <tr>\n",
       "      <th>3</th>\n",
       "      <td>TransactionId_380</td>\n",
       "      <td>BatchId_102363</td>\n",
       "      <td>AccountId_648</td>\n",
       "      <td>SubscriptionId_2185</td>\n",
       "      <td>CustomerId_988</td>\n",
       "      <td>UGX</td>\n",
       "      <td>256</td>\n",
       "      <td>ProviderId_1</td>\n",
       "      <td>ProductId_21</td>\n",
       "      <td>utility_bill</td>\n",
       "      <td>ChannelId_3</td>\n",
       "      <td>20000.0</td>\n",
       "      <td>21800</td>\n",
       "      <td>2018-11-15T03:32:55Z</td>\n",
       "      <td>2</td>\n",
       "      <td>0</td>\n",
       "    </tr>\n",
       "    <tr>\n",
       "      <th>4</th>\n",
       "      <td>TransactionId_28195</td>\n",
       "      <td>BatchId_38780</td>\n",
       "      <td>AccountId_4841</td>\n",
       "      <td>SubscriptionId_3829</td>\n",
       "      <td>CustomerId_988</td>\n",
       "      <td>UGX</td>\n",
       "      <td>256</td>\n",
       "      <td>ProviderId_4</td>\n",
       "      <td>ProductId_6</td>\n",
       "      <td>financial_services</td>\n",
       "      <td>ChannelId_2</td>\n",
       "      <td>-644.0</td>\n",
       "      <td>644</td>\n",
       "      <td>2018-11-15T03:34:21Z</td>\n",
       "      <td>2</td>\n",
       "      <td>0</td>\n",
       "    </tr>\n",
       "  </tbody>\n",
       "</table>\n",
       "</div>"
      ],
      "text/plain": [
       "         TransactionId         BatchId       AccountId       SubscriptionId       CustomerId CurrencyCode  CountryCode    ProviderId     ProductId     ProductCategory    ChannelId   Amount  Value  TransactionStartTime  PricingStrategy  FraudResult\n",
       "0  TransactionId_76871   BatchId_36123  AccountId_3957   SubscriptionId_887  CustomerId_4406          UGX          256  ProviderId_6  ProductId_10             airtime  ChannelId_3   1000.0   1000  2018-11-15T02:18:49Z                2            0\n",
       "1  TransactionId_73770   BatchId_15642  AccountId_4841  SubscriptionId_3829  CustomerId_4406          UGX          256  ProviderId_4   ProductId_6  financial_services  ChannelId_2    -20.0     20  2018-11-15T02:19:08Z                2            0\n",
       "2  TransactionId_26203   BatchId_53941  AccountId_4229   SubscriptionId_222  CustomerId_4683          UGX          256  ProviderId_6   ProductId_1             airtime  ChannelId_3    500.0    500  2018-11-15T02:44:21Z                2            0\n",
       "3    TransactionId_380  BatchId_102363   AccountId_648  SubscriptionId_2185   CustomerId_988          UGX          256  ProviderId_1  ProductId_21        utility_bill  ChannelId_3  20000.0  21800  2018-11-15T03:32:55Z                2            0\n",
       "4  TransactionId_28195   BatchId_38780  AccountId_4841  SubscriptionId_3829   CustomerId_988          UGX          256  ProviderId_4   ProductId_6  financial_services  ChannelId_2   -644.0    644  2018-11-15T03:34:21Z                2            0"
      ]
     },
     "execution_count": 17,
     "metadata": {},
     "output_type": "execute_result"
    }
   ],
   "source": [
    "sys.path.append(r'c:/Users/hp/kifiya_acadamy_week6/kifiya_week6_assignment/scripts')\n",
    "df = pd.read_csv('../data/data.csv')\n",
    "df.head()"
   ]
  },
  {
   "cell_type": "code",
   "execution_count": 18,
   "metadata": {},
   "outputs": [
    {
     "data": {
      "text/html": [
       "<style type=\"text/css\">\n",
       "</style>\n",
       "<table id=\"T_a3733\">\n",
       "  <thead>\n",
       "    <tr>\n",
       "      <th class=\"blank level0\" >&nbsp;</th>\n",
       "      <th id=\"T_a3733_level0_col0\" class=\"col_heading level0 col0\" >FraudResult</th>\n",
       "      <th id=\"T_a3733_level0_col1\" class=\"col_heading level0 col1\" >count</th>\n",
       "      <th id=\"T_a3733_level0_col2\" class=\"col_heading level0 col2\" >percent</th>\n",
       "      <th id=\"T_a3733_level0_col3\" class=\"col_heading level0 col3\" >cumulative_count</th>\n",
       "      <th id=\"T_a3733_level0_col4\" class=\"col_heading level0 col4\" >cumulative_percent</th>\n",
       "    </tr>\n",
       "  </thead>\n",
       "  <tbody>\n",
       "    <tr>\n",
       "      <th id=\"T_a3733_level0_row0\" class=\"row_heading level0 row0\" >0</th>\n",
       "      <td id=\"T_a3733_row0_col0\" class=\"data row0 col0\" >0</td>\n",
       "      <td id=\"T_a3733_row0_col1\" class=\"data row0 col1\" >95,469</td>\n",
       "      <td id=\"T_a3733_row0_col2\" class=\"data row0 col2\" >99.80%</td>\n",
       "      <td id=\"T_a3733_row0_col3\" class=\"data row0 col3\" >95,469</td>\n",
       "      <td id=\"T_a3733_row0_col4\" class=\"data row0 col4\" >99.80%</td>\n",
       "    </tr>\n",
       "    <tr>\n",
       "      <th id=\"T_a3733_level0_row1\" class=\"row_heading level0 row1\" >1</th>\n",
       "      <td id=\"T_a3733_row1_col0\" class=\"data row1 col0\" >1</td>\n",
       "      <td id=\"T_a3733_row1_col1\" class=\"data row1 col1\" >193</td>\n",
       "      <td id=\"T_a3733_row1_col2\" class=\"data row1 col2\" >0.20%</td>\n",
       "      <td id=\"T_a3733_row1_col3\" class=\"data row1 col3\" >95,662</td>\n",
       "      <td id=\"T_a3733_row1_col4\" class=\"data row1 col4\" >100.00%</td>\n",
       "    </tr>\n",
       "  </tbody>\n",
       "</table>\n"
      ],
      "text/plain": [
       "<pandas.io.formats.style.Styler at 0x2689c8e8e90>"
      ]
     },
     "execution_count": 18,
     "metadata": {},
     "output_type": "execute_result"
    }
   ],
   "source": [
    "# check target balance (FraudResult)\n",
    "df.stb.freq(['FraudResult'], style = True)"
   ]
  },
  {
   "cell_type": "code",
   "execution_count": 19,
   "metadata": {},
   "outputs": [
    {
     "data": {
      "text/html": [
       "<style type=\"text/css\">\n",
       "</style>\n",
       "<table id=\"T_ecdb8\">\n",
       "  <thead>\n",
       "    <tr>\n",
       "      <th class=\"blank level0\" >&nbsp;</th>\n",
       "      <th id=\"T_ecdb8_level0_col0\" class=\"col_heading level0 col0\" >ProductCategory</th>\n",
       "      <th id=\"T_ecdb8_level0_col1\" class=\"col_heading level0 col1\" >count</th>\n",
       "      <th id=\"T_ecdb8_level0_col2\" class=\"col_heading level0 col2\" >percent</th>\n",
       "      <th id=\"T_ecdb8_level0_col3\" class=\"col_heading level0 col3\" >cumulative_count</th>\n",
       "      <th id=\"T_ecdb8_level0_col4\" class=\"col_heading level0 col4\" >cumulative_percent</th>\n",
       "    </tr>\n",
       "  </thead>\n",
       "  <tbody>\n",
       "    <tr>\n",
       "      <th id=\"T_ecdb8_level0_row0\" class=\"row_heading level0 row0\" >0</th>\n",
       "      <td id=\"T_ecdb8_row0_col0\" class=\"data row0 col0\" >financial_services</td>\n",
       "      <td id=\"T_ecdb8_row0_col1\" class=\"data row0 col1\" >45,405</td>\n",
       "      <td id=\"T_ecdb8_row0_col2\" class=\"data row0 col2\" >47.46%</td>\n",
       "      <td id=\"T_ecdb8_row0_col3\" class=\"data row0 col3\" >45,405</td>\n",
       "      <td id=\"T_ecdb8_row0_col4\" class=\"data row0 col4\" >47.46%</td>\n",
       "    </tr>\n",
       "    <tr>\n",
       "      <th id=\"T_ecdb8_level0_row1\" class=\"row_heading level0 row1\" >1</th>\n",
       "      <td id=\"T_ecdb8_row1_col0\" class=\"data row1 col0\" >airtime</td>\n",
       "      <td id=\"T_ecdb8_row1_col1\" class=\"data row1 col1\" >45,027</td>\n",
       "      <td id=\"T_ecdb8_row1_col2\" class=\"data row1 col2\" >47.07%</td>\n",
       "      <td id=\"T_ecdb8_row1_col3\" class=\"data row1 col3\" >90,432</td>\n",
       "      <td id=\"T_ecdb8_row1_col4\" class=\"data row1 col4\" >94.53%</td>\n",
       "    </tr>\n",
       "    <tr>\n",
       "      <th id=\"T_ecdb8_level0_row2\" class=\"row_heading level0 row2\" >2</th>\n",
       "      <td id=\"T_ecdb8_row2_col0\" class=\"data row2 col0\" >utility_bill</td>\n",
       "      <td id=\"T_ecdb8_row2_col1\" class=\"data row2 col1\" >1,920</td>\n",
       "      <td id=\"T_ecdb8_row2_col2\" class=\"data row2 col2\" >2.01%</td>\n",
       "      <td id=\"T_ecdb8_row2_col3\" class=\"data row2 col3\" >92,352</td>\n",
       "      <td id=\"T_ecdb8_row2_col4\" class=\"data row2 col4\" >96.54%</td>\n",
       "    </tr>\n",
       "    <tr>\n",
       "      <th id=\"T_ecdb8_level0_row3\" class=\"row_heading level0 row3\" >3</th>\n",
       "      <td id=\"T_ecdb8_row3_col0\" class=\"data row3 col0\" >data_bundles</td>\n",
       "      <td id=\"T_ecdb8_row3_col1\" class=\"data row3 col1\" >1,613</td>\n",
       "      <td id=\"T_ecdb8_row3_col2\" class=\"data row3 col2\" >1.69%</td>\n",
       "      <td id=\"T_ecdb8_row3_col3\" class=\"data row3 col3\" >93,965</td>\n",
       "      <td id=\"T_ecdb8_row3_col4\" class=\"data row3 col4\" >98.23%</td>\n",
       "    </tr>\n",
       "    <tr>\n",
       "      <th id=\"T_ecdb8_level0_row4\" class=\"row_heading level0 row4\" >4</th>\n",
       "      <td id=\"T_ecdb8_row4_col0\" class=\"data row4 col0\" >tv</td>\n",
       "      <td id=\"T_ecdb8_row4_col1\" class=\"data row4 col1\" >1,279</td>\n",
       "      <td id=\"T_ecdb8_row4_col2\" class=\"data row4 col2\" >1.34%</td>\n",
       "      <td id=\"T_ecdb8_row4_col3\" class=\"data row4 col3\" >95,244</td>\n",
       "      <td id=\"T_ecdb8_row4_col4\" class=\"data row4 col4\" >99.56%</td>\n",
       "    </tr>\n",
       "    <tr>\n",
       "      <th id=\"T_ecdb8_level0_row5\" class=\"row_heading level0 row5\" >5</th>\n",
       "      <td id=\"T_ecdb8_row5_col0\" class=\"data row5 col0\" >ticket</td>\n",
       "      <td id=\"T_ecdb8_row5_col1\" class=\"data row5 col1\" >216</td>\n",
       "      <td id=\"T_ecdb8_row5_col2\" class=\"data row5 col2\" >0.23%</td>\n",
       "      <td id=\"T_ecdb8_row5_col3\" class=\"data row5 col3\" >95,460</td>\n",
       "      <td id=\"T_ecdb8_row5_col4\" class=\"data row5 col4\" >99.79%</td>\n",
       "    </tr>\n",
       "    <tr>\n",
       "      <th id=\"T_ecdb8_level0_row6\" class=\"row_heading level0 row6\" >6</th>\n",
       "      <td id=\"T_ecdb8_row6_col0\" class=\"data row6 col0\" >movies</td>\n",
       "      <td id=\"T_ecdb8_row6_col1\" class=\"data row6 col1\" >175</td>\n",
       "      <td id=\"T_ecdb8_row6_col2\" class=\"data row6 col2\" >0.18%</td>\n",
       "      <td id=\"T_ecdb8_row6_col3\" class=\"data row6 col3\" >95,635</td>\n",
       "      <td id=\"T_ecdb8_row6_col4\" class=\"data row6 col4\" >99.97%</td>\n",
       "    </tr>\n",
       "    <tr>\n",
       "      <th id=\"T_ecdb8_level0_row7\" class=\"row_heading level0 row7\" >7</th>\n",
       "      <td id=\"T_ecdb8_row7_col0\" class=\"data row7 col0\" >transport</td>\n",
       "      <td id=\"T_ecdb8_row7_col1\" class=\"data row7 col1\" >25</td>\n",
       "      <td id=\"T_ecdb8_row7_col2\" class=\"data row7 col2\" >0.03%</td>\n",
       "      <td id=\"T_ecdb8_row7_col3\" class=\"data row7 col3\" >95,660</td>\n",
       "      <td id=\"T_ecdb8_row7_col4\" class=\"data row7 col4\" >100.00%</td>\n",
       "    </tr>\n",
       "    <tr>\n",
       "      <th id=\"T_ecdb8_level0_row8\" class=\"row_heading level0 row8\" >8</th>\n",
       "      <td id=\"T_ecdb8_row8_col0\" class=\"data row8 col0\" >other</td>\n",
       "      <td id=\"T_ecdb8_row8_col1\" class=\"data row8 col1\" >2</td>\n",
       "      <td id=\"T_ecdb8_row8_col2\" class=\"data row8 col2\" >0.00%</td>\n",
       "      <td id=\"T_ecdb8_row8_col3\" class=\"data row8 col3\" >95,662</td>\n",
       "      <td id=\"T_ecdb8_row8_col4\" class=\"data row8 col4\" >100.00%</td>\n",
       "    </tr>\n",
       "  </tbody>\n",
       "</table>\n"
      ],
      "text/plain": [
       "<pandas.io.formats.style.Styler at 0x2689c8ebfb0>"
      ]
     },
     "execution_count": 19,
     "metadata": {},
     "output_type": "execute_result"
    }
   ],
   "source": [
    "# check target balance (ProductCategory)\n",
    "df.stb.freq(['ProductCategory'], style = True)"
   ]
  },
  {
   "cell_type": "code",
   "execution_count": 20,
   "metadata": {},
   "outputs": [
    {
     "data": {
      "text/html": [
       "<div>\n",
       "<style scoped>\n",
       "    .dataframe tbody tr th:only-of-type {\n",
       "        vertical-align: middle;\n",
       "    }\n",
       "\n",
       "    .dataframe tbody tr th {\n",
       "        vertical-align: top;\n",
       "    }\n",
       "\n",
       "    .dataframe thead th {\n",
       "        text-align: right;\n",
       "    }\n",
       "</style>\n",
       "<table border=\"1\" class=\"dataframe\">\n",
       "  <thead>\n",
       "    <tr style=\"text-align: right;\">\n",
       "      <th></th>\n",
       "      <th>Amount</th>\n",
       "      <th>Value</th>\n",
       "      <th>PricingStrategy</th>\n",
       "      <th>FraudResult</th>\n",
       "    </tr>\n",
       "  </thead>\n",
       "  <tbody>\n",
       "    <tr>\n",
       "      <th>Amount</th>\n",
       "      <td>1.000000</td>\n",
       "      <td>0.989692</td>\n",
       "      <td>-0.061931</td>\n",
       "      <td>0.557370</td>\n",
       "    </tr>\n",
       "    <tr>\n",
       "      <th>Value</th>\n",
       "      <td>0.989692</td>\n",
       "      <td>1.000000</td>\n",
       "      <td>-0.017020</td>\n",
       "      <td>0.566739</td>\n",
       "    </tr>\n",
       "    <tr>\n",
       "      <th>PricingStrategy</th>\n",
       "      <td>-0.061931</td>\n",
       "      <td>-0.017020</td>\n",
       "      <td>1.000000</td>\n",
       "      <td>-0.033821</td>\n",
       "    </tr>\n",
       "    <tr>\n",
       "      <th>FraudResult</th>\n",
       "      <td>0.557370</td>\n",
       "      <td>0.566739</td>\n",
       "      <td>-0.033821</td>\n",
       "      <td>1.000000</td>\n",
       "    </tr>\n",
       "  </tbody>\n",
       "</table>\n",
       "</div>"
      ],
      "text/plain": [
       "                   Amount     Value  PricingStrategy  FraudResult\n",
       "Amount           1.000000  0.989692        -0.061931     0.557370\n",
       "Value            0.989692  1.000000        -0.017020     0.566739\n",
       "PricingStrategy -0.061931 -0.017020         1.000000    -0.033821\n",
       "FraudResult      0.557370  0.566739        -0.033821     1.000000"
      ]
     },
     "execution_count": 20,
     "metadata": {},
     "output_type": "execute_result"
    }
   ],
   "source": [
    "# Selecting only numeric variables\n",
    "numeric_df = df.select_dtypes(include=['number'])\n",
    "numeric_df = numeric_df.drop(columns=['CountryCode'])\n",
    "numeric_df.corr()"
   ]
  },
  {
   "cell_type": "code",
   "execution_count": 47,
   "metadata": {},
   "outputs": [
    {
     "data": {
      "image/png": "[encoded data removed]",
      "text/plain": [
       "<Figure size 400x400 with 2 Axes>"
      ]
     },
     "metadata": {},
     "output_type": "display_data"
    }
   ],
   "source": [
    "# Create the heatmap\n",
    "f, ax = plt.subplots(figsize=(4, 4))\n",
    "sns.heatmap(\n",
    "    numeric_df.corr(),\n",
    "    cmap='coolwarm',\n",
    "    annot=True,\n",
    "    ax=ax\n",
    ")\n",
    "# Show the plot\n",
    "plt.show()"
   ]
  },
  {
   "cell_type": "markdown",
   "metadata": {},
   "source": [
    "WOE_Transformation"
   ]
  },
  {
   "cell_type": "code",
   "execution_count": 22,
   "metadata": {},
   "outputs": [],
   "source": [
    "import scorecardpy as sc\n",
    "from monotonic_binning.monotonic_woe_binning import Binning"
   ]
  },
  {
   "cell_type": "code",
   "execution_count": 23,
   "metadata": {},
   "outputs": [],
   "source": [
    "# Perform a 70 / 30 split of data\n",
    "train, test = sc.split_df(df, 'FraudResult', ratio = 0.7, seed = 999).values()"
   ]
  },
  {
   "cell_type": "code",
   "execution_count": 24,
   "metadata": {},
   "outputs": [],
   "source": [
    "var = train.drop(['FraudResult', 'TransactionId', 'BatchId','AccountId','SubscriptionId','CustomerId','CurrencyCode','CountryCode','ProviderId','ProductId',\t'ProductCategory'\t,'ChannelId'\t,'TransactionStartTime'], axis = 1).columns\n",
    "y_var = train['FraudResult']\n",
    "\n",
    "def woe_num(x, y):\n",
    "  bin_object = Binning(y, n_threshold = 50, y_threshold = 10, p_threshold = 0.35, sign=False)\n",
    "  global breaks\n",
    "  breaks = {}\n",
    "  for i in x:\n",
    "    bin_object.fit(train[[y, i]])\n",
    "    breaks[i] = (bin_object.bins[1:-1].tolist())\n",
    "  return breaks"
   ]
  },
  {
   "cell_type": "code",
   "execution_count": 25,
   "metadata": {},
   "outputs": [
    {
     "data": {
      "text/plain": [
       "{'Amount': [490000.0, 9880000.0],\n",
       " 'Value': [490000.0, 9880000.0],\n",
       " 'PricingStrategy': [4.0]}"
      ]
     },
     "execution_count": 25,
     "metadata": {},
     "output_type": "execute_result"
    }
   ],
   "source": [
    "woe_num(var, 'FraudResult')"
   ]
  },
  {
   "cell_type": "code",
   "execution_count": 26,
   "metadata": {},
   "outputs": [
    {
     "name": "stdout",
     "output_type": "stream",
     "text": [
      "[INFO] creating woe binning ...\n",
      "[INFO] The breaks_list is saved as cat_breaks_20250128_202704.py\n"
     ]
    }
   ],
   "source": [
    "# Check categorical variables names\n",
    "bins = sc.woebin(train, y = 'FraudResult', x = [ 'ProductCategory'], save_breaks_list = 'cat_breaks')"
   ]
  },
  {
   "cell_type": "markdown",
   "metadata": {},
   "source": [
    "Merge numeric and categorical variables breaks"
   ]
  },
  {
   "cell_type": "code",
   "execution_count": 27,
   "metadata": {},
   "outputs": [
    {
     "name": "stdout",
     "output_type": "stream",
     "text": [
      "{'Amount': [490000.0, 9880000.0], 'Value': [490000.0, 9880000.0], 'PricingStrategy': [4.0], 'ProductCategory': ['data_bundles%,%movies%,%other%,%ticket%,%tv%,%airtime', 'financial_services%,%utility_bill%,%transport']}\n"
     ]
    }
   ],
   "source": [
    "# import dictionary\n",
    "from cat_breaks_20250128_202704 import breaks_list\n",
    "breaks_list\n",
    "\n",
    "# merge\n",
    "breaks.update(breaks_list)\n",
    "print(breaks)"
   ]
  },
  {
   "cell_type": "markdown",
   "metadata": {},
   "source": [
    "Compute WOEs"
   ]
  },
  {
   "cell_type": "code",
   "execution_count": 29,
   "metadata": {},
   "outputs": [],
   "source": [
    "df_d = df.drop(columns=['TransactionId', 'BatchId', 'AccountId', 'SubscriptionId', 'CustomerId', 'TransactionStartTime'])"
   ]
  },
  {
   "cell_type": "code",
   "execution_count": 30,
   "metadata": {},
   "outputs": [
    {
     "name": "stdout",
     "output_type": "stream",
     "text": [
      "[INFO] creating woe binning ...\n"
     ]
    }
   ],
   "source": [
    "bins_adj = sc.woebin(df_d, 'FraudResult', breaks_list= breaks, positive = 'bad|0') # change positive to adjust WOE to ln(GOOD / BAD)"
   ]
  },
  {
   "cell_type": "code",
   "execution_count": 40,
   "metadata": {},
   "outputs": [
    {
     "data": {
      "text/plain": [
       "{'Amount': <Figure size 640x480 with 2 Axes>,\n",
       " 'ProductCategory': <Figure size 640x480 with 2 Axes>,\n",
       " 'Value': <Figure size 640x480 with 2 Axes>,\n",
       " 'ChannelId': <Figure size 640x480 with 2 Axes>,\n",
       " 'ProviderId': <Figure size 640x480 with 2 Axes>,\n",
       " 'PricingStrategy': <Figure size 640x480 with 2 Axes>,\n",
       " 'ProductId': <Figure size 640x480 with 2 Axes>}"
      ]
     },
     "execution_count": 40,
     "metadata": {},
     "output_type": "execute_result"
    }
   ],
   "source": [
    "sc.woebin_plot(bins_adj)"
   ]
  },
  {
   "cell_type": "code",
   "execution_count": 37,
   "metadata": {},
   "outputs": [
    {
     "name": "stdout",
     "output_type": "stream",
     "text": [
      "Amount: <class 'pandas.core.frame.DataFrame'>\n",
      "ProductCategory: <class 'pandas.core.frame.DataFrame'>\n",
      "Value: <class 'pandas.core.frame.DataFrame'>\n",
      "ChannelId: <class 'pandas.core.frame.DataFrame'>\n",
      "ProviderId: <class 'pandas.core.frame.DataFrame'>\n",
      "PricingStrategy: <class 'pandas.core.frame.DataFrame'>\n",
      "ProductId: <class 'pandas.core.frame.DataFrame'>\n"
     ]
    }
   ],
   "source": [
    "for var, obj in bins_adj.items():\n",
    "    print(f\"{var}: {type(obj)}\")"
   ]
  },
  {
   "cell_type": "code",
   "execution_count": 43,
   "metadata": {},
   "outputs": [
    {
     "name": "stdout",
     "output_type": "stream",
     "text": [
      "Amount DataFrame columns: Index(['variable', 'bin', 'count', 'count_distr', 'good', 'bad', 'badprob', 'woe', 'bin_iv', 'total_iv', 'breaks', 'is_special_values'], dtype='object')\n",
      "  variable                   bin  count  count_distr  good    bad   badprob       woe    bin_iv  total_iv     breaks  is_special_values\n",
      "0   Amount       [-inf,490000.0)  95435     0.997627    25  95410  0.999738  2.043187  1.777243  8.073809   490000.0              False\n",
      "1   Amount  [490000.0,9880000.0)    226     0.002362   167     59  0.261062 -7.244332  6.263935  8.073809  9880000.0              False\n",
      "2   Amount       [9880000.0,inf)      1     0.000010     1      0  0.000000 -6.309237  0.032631  8.073809        inf              False\n",
      "ProductCategory DataFrame columns: Index(['variable', 'bin', 'count', 'count_distr', 'good', 'bad', 'badprob', 'woe', 'bin_iv', 'total_iv', 'breaks', 'is_special_values'], dtype='object')\n",
      "          variable                                                bin  count  count_distr  good    bad   badprob       woe    bin_iv  total_iv                                             breaks  is_special_values\n",
      "0  ProductCategory  data_bundles%,%movies%,%other%,%ticket%,%tv%,%...  48312     0.505028    18  48294  0.999627  1.690824  0.697628  0.948087  data_bundles%,%movies%,%other%,%ticket%,%tv%,%...              False\n",
      "1  ProductCategory      financial_services%,%utility_bill%,%transport  47350     0.494972   175  47175  0.996304 -0.607033  0.250460  0.948087      financial_services%,%utility_bill%,%transport              False\n",
      "Value DataFrame columns: Index(['variable', 'bin', 'count', 'count_distr', 'good', 'bad', 'badprob', 'woe', 'bin_iv', 'total_iv', 'breaks', 'is_special_values'], dtype='object')\n",
      "  variable                   bin  count  count_distr  good    bad   badprob       woe    bin_iv  total_iv     breaks  is_special_values\n",
      "0    Value       [-inf,490000.0)  95429     0.997564    21  95408  0.999780  2.217519  1.974797  8.412794   490000.0              False\n",
      "1    Value  [490000.0,9880000.0)    232     0.002425   171     61  0.262931 -7.234666  6.405366  8.412794  9880000.0              False\n",
      "2    Value       [9880000.0,inf)      1     0.000010     1      0  0.000000 -6.309237  0.032631  8.412794        inf              False\n",
      "ChannelId DataFrame columns: Index(['variable', 'bin', 'count', 'count_distr', 'good', 'bad', 'badprob', 'woe', 'bin_iv', 'total_iv', 'breaks', 'is_special_values'], dtype='object')\n",
      "    variable                        bin  count  count_distr  good    bad   badprob       woe    bin_iv  total_iv                     breaks  is_special_values\n",
      "0  ChannelId  ChannelId_1%,%ChannelId_3  57473     0.600792   188  57285  0.996729 -0.484515  0.181235  1.204976  ChannelId_1%,%ChannelId_3              False\n",
      "1  ChannelId  ChannelId_2%,%ChannelId_5  38189     0.399208     5  38184  0.999869  2.736867  1.023740  1.204976  ChannelId_2%,%ChannelId_5              False\n",
      "ProviderId DataFrame columns: Index(['variable', 'bin', 'count', 'count_distr', 'good', 'bad', 'badprob', 'woe', 'bin_iv', 'total_iv', 'breaks', 'is_special_values'], dtype='object')\n",
      "     variable                                         bin  count  count_distr  good    bad   badprob       woe    bin_iv  total_iv                                      breaks  is_special_values\n",
      "0  ProviderId                 ProviderId_3%,%ProviderId_1   8727     0.091227   121   8606  0.986135 -1.939442  1.041090  3.265085                 ProviderId_3%,%ProviderId_1              False\n",
      "1  ProviderId                                ProviderId_5  14542     0.152014    64  14478  0.995599 -0.782364  0.140790  3.265085                                ProviderId_5              False\n",
      "2  ProviderId  ProviderId_4%,%ProviderId_6%,%ProviderId_2  72393     0.756758     8  72385  0.999889  2.906446  2.083205  3.265085  ProviderId_4%,%ProviderId_6%,%ProviderId_2              False\n",
      "PricingStrategy DataFrame columns: Index(['variable', 'bin', 'count', 'count_distr', 'good', 'bad', 'badprob', 'woe', 'bin_iv', 'total_iv', 'breaks', 'is_special_values'], dtype='object')\n",
      "          variable         bin  count  count_distr  good    bad   badprob       woe    bin_iv  total_iv breaks  is_special_values\n",
      "0  PricingStrategy  [-inf,4.0)  82100      0.85823   182  81918  0.997783 -0.094399  0.008019  0.085529    4.0              False\n",
      "1  PricingStrategy   [4.0,inf)  13562      0.14177    11  13551  0.999189  0.912454  0.077510  0.085529    inf              False\n",
      "ProductId DataFrame columns: Index(['variable', 'bin', 'count', 'count_distr', 'good', 'bad', 'badprob', 'woe', 'bin_iv', 'total_iv', 'breaks', 'is_special_values'], dtype='object')\n",
      "    variable                                                bin  count  count_distr  good    bad   badprob       woe    bin_iv  total_iv                                             breaks  is_special_values\n",
      "0  ProductId  ProductId_9%,%ProductId_5%,%ProductId_13%,%Pro...  13926     0.145575   174  13752  0.987505 -1.833982  1.389256  3.806318  ProductId_9%,%ProductId_5%,%ProductId_13%,%Pro...              False\n",
      "1  ProductId                                        ProductId_3  24344     0.254479    12  24332  0.999507  1.410774  0.271845  3.806318                                        ProductId_3              False\n",
      "2  ProductId                                       ProductId_10  15384     0.160816     6  15378  0.999610  1.645067  0.213843  3.806318                                       ProductId_10              False\n",
      "3  ProductId  ProductId_6%,%ProductId_12%,%ProductId_7%,%Pro...  42008     0.439129     1  42007  0.999976  4.441725  1.931375  3.806318  ProductId_6%,%ProductId_12%,%ProductId_7%,%Pro...              False\n"
     ]
    }
   ],
   "source": [
    "for variable, df in bins_adj.items():\n",
    "    print(f\"{variable} DataFrame columns: {df.columns}\")\n",
    "    print(df.head())"
   ]
  },
  {
   "cell_type": "code",
   "execution_count": 45,
   "metadata": {},
   "outputs": [],
   "source": [
    "for variable, df in bins_adj.items():\n",
    "    plt.figure(figsize=(8, 6))\n",
    "    plt.bar(df['bin'], df['woe'], color='skyblue')  # Replace 'bin' and 'woe' with actual column names\n",
    "    plt.xlabel('Bin')\n",
    "    plt.ylabel('WOE')\n",
    "    plt.title(f'WOE Plot for {variable}')\n",
    "    plt.xticks(rotation=45)\n",
    "    plt.tight_layout()\n",
    "    plt.savefig(f\"{variable}_woe_plot.png\")  # Save as PNG file\n",
    "    plt.close()  # Close the figure after saving\n"
   ]
  }
 ],
 "metadata": {
  "kernelspec": {
   "display_name": "base",
   "language": "python",
   "name": "python3"
  },
  "language_info": {
   "codemirror_mode": {
    "name": "ipython",
    "version": 3
   },
   "file_extension": ".py",
   "mimetype": "text/x-python",
   "name": "python",
   "nbconvert_exporter": "python",
   "pygments_lexer": "ipython3",
   "version": "3.12.7"
  }
 },
 "nbformat": 4,
 "nbformat_minor": 2
}
